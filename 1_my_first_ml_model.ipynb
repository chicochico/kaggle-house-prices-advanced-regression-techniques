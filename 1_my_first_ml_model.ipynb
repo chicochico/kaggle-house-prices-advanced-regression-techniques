{
 "cells": [
  {
   "cell_type": "markdown",
   "metadata": {
    "_cell_guid": "e81ee64d-e474-4662-9036-ce23df615199",
    "_uuid": "b6269c0e8f417f82daf093dda8fa0da6d2c57d86"
   },
   "source": [
    "# Introduction\n",
    "**This will be your workspace for Kaggle's Machine Learning education track.**\n",
    "\n",
    "You will build and continually improve a model to predict housing prices as you work through each tutorial.  Fork this notebook and write your code in it.\n",
    "\n",
    "The data from the tutorial, the Melbourne data, is not available in this workspace.  You will need to translate the concepts to work with the data in this notebook, the Iowa data.\n",
    "\n",
    "Come to the [Learn Discussion](https://www.kaggle.com/learn-forum) forum for any questions or comments. \n",
    "\n",
    "# Write Your Code Below\n",
    "\n"
   ]
  },
  {
   "cell_type": "code",
   "execution_count": 2,
   "metadata": {
    "_cell_guid": "86b26423-563a-4fa1-a595-89e25ff93089",
    "_uuid": "1c728098629e1301643443b1341556a15c089b2b",
    "collapsed": true
   },
   "outputs": [],
   "source": [
    "import pandas as pd\n",
    "from sklearn.ensemble import RandomForestRegressor\n",
    "from sklearn.metrics import mean_absolute_error"
   ]
  },
  {
   "cell_type": "code",
   "execution_count": 3,
   "metadata": {
    "_cell_guid": "5eab3da3-3b74-49ea-922c-782036271f40",
    "_uuid": "1702f7fe683d2ab8d8eaa728388a53331255ed70",
    "collapsed": true
   },
   "outputs": [],
   "source": [
    "train_file = './train.csv'\n",
    "test_file = './test.csv'\n",
    "train_data = pd.read_csv(train_file)\n",
    "test_data = pd.read_csv(test_file)"
   ]
  },
  {
   "cell_type": "code",
   "execution_count": 4,
   "metadata": {
    "_cell_guid": "d64f7bbb-886e-4cb1-9d9e-bda8d2ba4ba4",
    "_uuid": "80f030faeb7e219c30c41ea2f2c9d57ae16d230d",
    "collapsed": true
   },
   "outputs": [],
   "source": [
    "predictors = ['LotArea', \n",
    "              'YearBuilt',\n",
    "              '1stFlrSF',\n",
    "              '2ndFlrSF',\n",
    "              'FullBath',\n",
    "              'BedroomAbvGr',\n",
    "              'TotRmsAbvGrd']\n",
    "trainy = train_data.SalePrice\n",
    "trainx = train_data[predictors]\n",
    "testx = test_data[predictors]"
   ]
  },
  {
   "cell_type": "code",
   "execution_count": 5,
   "metadata": {
    "_cell_guid": "573bfa31-3813-4f76-9dc1-4adb59cb85c3",
    "_uuid": "f8b0967d44fdb22d0742ee58eceb67d42488d5b7",
    "collapsed": true
   },
   "outputs": [
    {
     "data": {
      "text/plain": [
       "RandomForestRegressor(bootstrap=True, criterion='mse', max_depth=None,\n",
       "           max_features='auto', max_leaf_nodes=None,\n",
       "           min_impurity_decrease=0.0, min_impurity_split=None,\n",
       "           min_samples_leaf=1, min_samples_split=2,\n",
       "           min_weight_fraction_leaf=0.0, n_estimators=10, n_jobs=1,\n",
       "           oob_score=False, random_state=None, verbose=0, warm_start=False)"
      ]
     },
     "execution_count": 5,
     "metadata": {},
     "output_type": "execute_result"
    }
   ],
   "source": [
    "model = RandomForestRegressor()\n",
    "model.fit(trainx, trainy)"
   ]
  },
  {
   "cell_type": "code",
   "execution_count": 6,
   "metadata": {
    "_cell_guid": "437ebb2a-5589-4b8e-8586-49b421512dde",
    "_uuid": "f8298d3d02d234f69c09f315431cdda0b82b6a72",
    "collapsed": true
   },
   "outputs": [
    {
     "data": {
      "text/plain": [
       "array([114000. , 156800. , 181140. , ..., 159480.2, 125000. , 226271. ])"
      ]
     },
     "execution_count": 6,
     "metadata": {},
     "output_type": "execute_result"
    }
   ],
   "source": [
    "predicted_prices = model.predict(testx)\n",
    "predicted_prices"
   ]
  },
  {
   "cell_type": "code",
   "execution_count": 7,
   "metadata": {
    "_cell_guid": "8ecd0cc8-1eab-42d2-82fa-4cc857dbea8b",
    "_uuid": "ee0bf47d24afa0d1e4c627000da8c90b18976b82",
    "collapsed": true
   },
   "outputs": [],
   "source": [
    "submission = pd.DataFrame({'Id': test_data.Id, 'SalePrice': predicted_prices})\n",
    "submission.to_csv('submission.csv', index=False)"
   ]
  }
 ],
 "metadata": {
  "kernelspec": {
   "display_name": "Python 3",
   "language": "python",
   "name": "python3"
  },
  "language_info": {
   "codemirror_mode": {
    "name": "ipython",
    "version": 3
   },
   "file_extension": ".py",
   "mimetype": "text/x-python",
   "name": "python",
   "nbconvert_exporter": "python",
   "pygments_lexer": "ipython3",
   "version": "3.6.3"
  }
 },
 "nbformat": 4,
 "nbformat_minor": 2
}
