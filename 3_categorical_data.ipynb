{
 "cells": [
  {
   "cell_type": "code",
   "execution_count": 1,
   "metadata": {},
   "outputs": [],
   "source": [
    "import pandas as pd\n",
    "\n",
    "from sklearn.ensemble import RandomForestRegressor\n",
    "from sklearn.metrics import mean_absolute_error\n",
    "from sklearn.model_selection import train_test_split\n",
    "from sklearn.preprocessing import Imputer"
   ]
  },
  {
   "cell_type": "code",
   "execution_count": 12,
   "metadata": {},
   "outputs": [],
   "source": [
    "data = pd.read_csv('./train.csv')\n",
    "\n",
    "X = data.drop(['SalePrice'], axis=1)\n",
    "y = data.SalePrice"
   ]
  },
  {
   "cell_type": "code",
   "execution_count": 5,
   "metadata": {},
   "outputs": [],
   "source": [
    "hot_encoded = pd.get_dummies(X)"
   ]
  },
  {
   "cell_type": "markdown",
   "metadata": {},
   "source": [
    "### MAE without categoricals"
   ]
  },
  {
   "cell_type": "code",
   "execution_count": 27,
   "metadata": {},
   "outputs": [
    {
     "data": {
      "text/plain": [
       "19157.47506849315"
      ]
     },
     "execution_count": 27,
     "metadata": {},
     "output_type": "execute_result"
    }
   ],
   "source": [
    "# remove non numerical values\n",
    "Xtrn = X.select_dtypes(exclude=['object'])\n",
    "# imput nan row values\n",
    "imputer = Imputer()\n",
    "Xtrn = imputer.fit_transform(Xtrn)\n",
    "# split train and test data\n",
    "Xtrn, Xtst, ytrn, ytst = train_test_split(Xtrn, y, test_size=0.25)\n",
    "# train model\n",
    "model = RandomForestRegressor()\n",
    "model.fit(Xtrn, ytrn)\n",
    "# predict prices\n",
    "predicted_prices = model.predict(Xtst)\n",
    "# calculate MAE\n",
    "mean_absolute_error(ytst, predicted_prices)"
   ]
  },
  {
   "cell_type": "markdown",
   "metadata": {},
   "source": [
    "### MAE with categorical data"
   ]
  },
  {
   "cell_type": "code",
   "execution_count": 28,
   "metadata": {},
   "outputs": [
    {
     "data": {
      "text/plain": [
       "19757.30301369863"
      ]
     },
     "execution_count": 28,
     "metadata": {},
     "output_type": "execute_result"
    }
   ],
   "source": [
    "# hot encode categorical data\n",
    "Xtrn = pd.get_dummies(X)\n",
    "# imput nan rows\n",
    "imputer = Imputer()\n",
    "Xtrn = imputer.fit_transform(Xtrn)\n",
    "# split training and test data\n",
    "Xtrn, Xtst, ytrn, ytst = train_test_split(Xtrn, y, test_size=0.25)\n",
    "# train model\n",
    "model = RandomForestRegressor()\n",
    "model.fit(Xtrn, ytrn)\n",
    "# predict\n",
    "predicted_prices = model.predict(Xtst)\n",
    "# MAE\n",
    "mean_absolute_error(ytst, predicted_prices)"
   ]
  },
  {
   "cell_type": "markdown",
   "metadata": {},
   "source": [
    "### Submission 3"
   ]
  },
  {
   "cell_type": "code",
   "execution_count": 50,
   "metadata": {},
   "outputs": [
    {
     "data": {
      "text/plain": [
       "RandomForestRegressor(bootstrap=True, criterion='mse', max_depth=None,\n",
       "           max_features='auto', max_leaf_nodes=None,\n",
       "           min_impurity_decrease=0.0, min_impurity_split=None,\n",
       "           min_samples_leaf=1, min_samples_split=2,\n",
       "           min_weight_fraction_leaf=0.0, n_estimators=10, n_jobs=1,\n",
       "           oob_score=False, random_state=None, verbose=0, warm_start=False)"
      ]
     },
     "execution_count": 50,
     "metadata": {},
     "output_type": "execute_result"
    }
   ],
   "source": [
    "# get test data\n",
    "test_data = pd.read_csv('./test.csv')\n",
    "# hot encode\n",
    "Xtrn = pd.get_dummies(X)\n",
    "Xtest = pd.get_dummies(test_data)\n",
    "# align\n",
    "Xtrn, Xtest = Xtrn.align(Xtest, join='inner', axis=1)\n",
    "# impute\n",
    "imputer = Imputer()\n",
    "Xtrn = imputer.fit_transform(Xtrn)\n",
    "Xtest = imputer.fit_transform(Xtest)\n",
    "# train\n",
    "model = RandomForestRegressor()\n",
    "model.fit(Xtrn, y)"
   ]
  },
  {
   "cell_type": "code",
   "execution_count": 53,
   "metadata": {},
   "outputs": [],
   "source": [
    "# predict\n",
    "predicted_prices = model.predict(Xtest)\n",
    "# create submission\n",
    "submission = pd.DataFrame({'Id': test_data.Id, 'SalePrice': predicted_prices})\n",
    "submission.to_csv('submission3.csv', index=False)"
   ]
  }
 ],
 "metadata": {
  "kernelspec": {
   "display_name": "Python 3",
   "language": "python",
   "name": "python3"
  },
  "language_info": {
   "codemirror_mode": {
    "name": "ipython",
    "version": 3
   },
   "file_extension": ".py",
   "mimetype": "text/x-python",
   "name": "python",
   "nbconvert_exporter": "python",
   "pygments_lexer": "ipython3",
   "version": "3.6.3"
  }
 },
 "nbformat": 4,
 "nbformat_minor": 2
}
